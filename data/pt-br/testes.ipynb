{
 "cells": [
  {
   "cell_type": "code",
   "execution_count": 21,
   "metadata": {},
   "outputs": [],
   "source": [
    "event = {'Records': [{'eventID': 'f16c86c93512cb0d95631884fd8d6fb0', 'eventName': 'INSERT', 'eventVersion': '1.1', 'eventSource': 'aws:dynamodb', 'awsRegion': 'us-east-2', 'dynamodb': {'ApproximateCreationDateTime': 1698108899.0, 'Keys': {'account_id': {'S': 'conta#00003'}, 'sk': {'S': 'JANELA#ALL'}}, 'NewImage': {'account_id': {'S': 'conta#00003'}, 'sk': {'S': 'JANELA#ALL'}, 'valor': {'L': [{'M': {'qtd': {'N': '10'}, 'janela': {'S': '1h'}}}, {'M': {'qtd': {'N': '30'}, 'janela': {'S': '3h'}}}]}, 'dt_inclusao': {'S': '2023-01-09 10:56:56'}}, 'SequenceNumber': '23257900000000013819880059', 'SizeBytes': 142, 'StreamViewType': 'NEW_IMAGE'}, 'eventSourceARN': 'arn:aws:dynamodb:us-east-2:750204280754:table/teste_dbstreams/stream/2023-10-19T00:03:47.027'}]}"
   ]
  },
  {
   "cell_type": "code",
   "execution_count": 23,
   "metadata": {},
   "outputs": [],
   "source": [
    "import json\n",
    "from utils_dbstreams import StreamsUtils"
   ]
  },
  {
   "cell_type": "code",
   "execution_count": 24,
   "metadata": {},
   "outputs": [
    {
     "name": "stdout",
     "output_type": "stream",
     "text": [
      "{'Records': [{'eventID': 'f16c86c93512cb0d95631884fd8d6fb0', 'eventName': 'INSERT', 'eventVersion': '1.1', 'eventSource': 'aws:dynamodb', 'awsRegion': 'us-east-2', 'dynamodb': {'ApproximateCreationDateTime': 1698108899.0, 'Keys': {'account_id': {'S': 'conta#00003'}, 'sk': {'S': 'JANELA#ALL'}}, 'NewImage': {'account_id': {'S': 'conta#00003'}, 'sk': {'S': 'JANELA#ALL'}, 'valor': {'L': [{'M': {'qtd': {'N': '10'}, 'janela': {'S': '1h'}}}, {'M': {'qtd': {'N': '30'}, 'janela': {'S': '3h'}}}]}, 'dt_inclusao': {'S': '2023-01-09 10:56:56'}}, 'SequenceNumber': '23257900000000013819880059', 'SizeBytes': 142, 'StreamViewType': 'NEW_IMAGE'}, 'eventSourceARN': 'arn:aws:dynamodb:us-east-2:750204280754:table/teste_dbstreams/stream/2023-10-19T00:03:47.027'}]}\n"
     ]
    }
   ],
   "source": [
    "print(event)"
   ]
  },
  {
   "cell_type": "code",
   "execution_count": null,
   "metadata": {},
   "outputs": [],
   "source": [
    "\n",
    "\n",
    "#Função para processar eventos do tipo INSERT e retornar o output no formato JSON    \n",
    "def generate_data(record) -> dict:\n",
    "    stream_utils = StreamsUtils()\n",
    "    output_json = stream_utils.process_insert_event(record)\n",
    "    if output_json is not None:\n",
    "        print(output_json)\n",
    "        data = json.dumps(output_json, ensure_ascii=False)\n",
    "        print(data)"
   ]
  },
  {
   "cell_type": "code",
   "execution_count": 26,
   "metadata": {},
   "outputs": [],
   "source": [
    "def lambda_handler(event, context):\n",
    "    \n",
    "    print(event)\n",
    "           \n",
    "    try:\n",
    "        for record in event['Records']:\n",
    "            if record['eventName'] == 'INSERT':\n",
    "                generate_data(record)\n",
    "            else:\n",
    "                logging.debug(\"Evento não é um INSERT e não será processado\")\n",
    "                pass\n",
    "    except Exception as e:\n",
    "        print(e)\n",
    "        \n",
    "        return \"Ops!\"\n",
    "        \n",
    "\n",
    "\n"
   ]
  },
  {
   "cell_type": "code",
   "execution_count": 27,
   "metadata": {},
   "outputs": [
    {
     "name": "stderr",
     "output_type": "stream",
     "text": [
      "ERROR:root:Erro ao processar evento de inserção: 'dynamodb'\n"
     ]
    },
    {
     "ename": "KeyError",
     "evalue": "'dynamodb'",
     "output_type": "error",
     "traceback": [
      "\u001b[1;31m---------------------------------------------------------------------------\u001b[0m",
      "\u001b[1;31mKeyError\u001b[0m                                  Traceback (most recent call last)",
      "\u001b[1;32mc:\\testes-python\\dict_pix\\testes.ipynb Cell 5\u001b[0m line \u001b[0;36m1\n\u001b[1;32m----> <a href='vscode-notebook-cell:/c%3A/testes-python/dict_pix/testes.ipynb#W3sZmlsZQ%3D%3D?line=0'>1</a>\u001b[0m teste \u001b[39m=\u001b[39m generate_data(record)\n\u001b[0;32m      <a href='vscode-notebook-cell:/c%3A/testes-python/dict_pix/testes.ipynb#W3sZmlsZQ%3D%3D?line=1'>2</a>\u001b[0m \u001b[39mprint\u001b[39m(teste)\n",
      "\u001b[1;32mc:\\testes-python\\dict_pix\\testes.ipynb Cell 5\u001b[0m line \u001b[0;36m2\n\u001b[0;32m     <a href='vscode-notebook-cell:/c%3A/testes-python/dict_pix/testes.ipynb#W3sZmlsZQ%3D%3D?line=19'>20</a>\u001b[0m \u001b[39mdef\u001b[39;00m \u001b[39mgenerate_data\u001b[39m(record) \u001b[39m-\u001b[39m\u001b[39m>\u001b[39m \u001b[39mdict\u001b[39m:\n\u001b[0;32m     <a href='vscode-notebook-cell:/c%3A/testes-python/dict_pix/testes.ipynb#W3sZmlsZQ%3D%3D?line=20'>21</a>\u001b[0m     stream_utils \u001b[39m=\u001b[39m StreamsUtils()\n\u001b[1;32m---> <a href='vscode-notebook-cell:/c%3A/testes-python/dict_pix/testes.ipynb#W3sZmlsZQ%3D%3D?line=21'>22</a>\u001b[0m     output_json \u001b[39m=\u001b[39m stream_utils\u001b[39m.\u001b[39;49mprocess_insert_event(record)\n\u001b[0;32m     <a href='vscode-notebook-cell:/c%3A/testes-python/dict_pix/testes.ipynb#W3sZmlsZQ%3D%3D?line=22'>23</a>\u001b[0m     \u001b[39mif\u001b[39;00m output_json \u001b[39mis\u001b[39;00m \u001b[39mnot\u001b[39;00m \u001b[39mNone\u001b[39;00m:\n\u001b[0;32m     <a href='vscode-notebook-cell:/c%3A/testes-python/dict_pix/testes.ipynb#W3sZmlsZQ%3D%3D?line=23'>24</a>\u001b[0m         \u001b[39mprint\u001b[39m(output_json)\n",
      "File \u001b[1;32mc:\\testes-python\\dict_pix\\utils_dbstreams.py:15\u001b[0m, in \u001b[0;36mStreamsUtils.process_insert_event\u001b[1;34m(self, record)\u001b[0m\n\u001b[0;32m     13\u001b[0m \u001b[39mtry\u001b[39;00m:\n\u001b[0;32m     14\u001b[0m     \u001b[39mif\u001b[39;00m record \u001b[39mis\u001b[39;00m \u001b[39mnot\u001b[39;00m \u001b[39mNone\u001b[39;00m:\n\u001b[1;32m---> 15\u001b[0m         id_conta, valor, dt_inclusao \u001b[39m=\u001b[39m \u001b[39mself\u001b[39m\u001b[39m.\u001b[39mget_image(record[\u001b[39m'\u001b[39;49m\u001b[39mdynamodb\u001b[39;49m\u001b[39m'\u001b[39;49m][\u001b[39m'\u001b[39m\u001b[39mNewImage\u001b[39m\u001b[39m'\u001b[39m])\n\u001b[0;32m     16\u001b[0m         id_conta \u001b[39m=\u001b[39m id_conta\u001b[39m.\u001b[39msplit(\u001b[39m'\u001b[39m\u001b[39m#\u001b[39m\u001b[39m'\u001b[39m)[\u001b[39m1\u001b[39m]\n\u001b[0;32m     17\u001b[0m         janelas \u001b[39m=\u001b[39m \u001b[39mself\u001b[39m\u001b[39m.\u001b[39mprocess_values(valor)\n",
      "\u001b[1;31mKeyError\u001b[0m: 'dynamodb'"
     ]
    }
   ],
   "source": [
    "teste = generate_data(record)\n",
    "print(teste)"
   ]
  }
 ],
 "metadata": {
  "kernelspec": {
   "display_name": "Python 3",
   "language": "python",
   "name": "python3"
  },
  "language_info": {
   "codemirror_mode": {
    "name": "ipython",
    "version": 3
   },
   "file_extension": ".py",
   "mimetype": "text/x-python",
   "name": "python",
   "nbconvert_exporter": "python",
   "pygments_lexer": "ipython3",
   "version": "3.12.0"
  }
 },
 "nbformat": 4,
 "nbformat_minor": 2
}
